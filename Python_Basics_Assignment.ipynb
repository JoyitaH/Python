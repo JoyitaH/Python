{
 "cells": [
  {
   "cell_type": "markdown",
   "metadata": {},
   "source": [
    "Q1. Using Python script as a calculator\n",
    "Create the variables n, r, p and assign them values 10, 5, and 100 respectively. Then\n",
    "evaluate the following expression in the Python console.\n",
    " 𝐴 = 𝑝 (1 + 𝑟/ 100)n\n",
    "* a. 100\n",
    "* b. 162.89\n",
    "* c. 189\n",
    "* d. None of the above\n",
    "\n",
    "# b. 162.89"
   ]
  },
  {
   "cell_type": "code",
   "execution_count": 1,
   "metadata": {},
   "outputs": [
    {
     "name": "stdout",
     "output_type": "stream",
     "text": [
      "162.8894626777442\n"
     ]
    }
   ],
   "source": [
    "n = 10\n",
    "r = 5\n",
    "p = 100\n",
    "A = p*(1+r/100)**n\n",
    "print(A)"
   ]
  },
  {
   "cell_type": "markdown",
   "metadata": {},
   "source": [
    "Q2. In a given string format operation, how will you print the given string.\n",
    "\n",
    "A = 10\n",
    "B = 20\n",
    "\n",
    "Str = \"There are {} students in the class, with {} who play at least one sport.\"\n",
    "* a. print(string.format(a,b))\n",
    "* b. print(string+a+b)\n",
    "* c. print(string.format(b,a))\n",
    "* d. None of the above\n",
    "\n",
    "# d. None of the above"
   ]
  },
  {
   "cell_type": "code",
   "execution_count": 7,
   "metadata": {},
   "outputs": [
    {
     "name": "stdout",
     "output_type": "stream",
     "text": [
      "There are 10 students in the class, with 20 who play at least one sport.\n"
     ]
    }
   ],
   "source": [
    "A = 10\n",
    "B = 20\n",
    "Str = \"There are {} students in the class, with {} who play at least one sport.\"\n",
    "print(Str.format(A,B))"
   ]
  },
  {
   "cell_type": "markdown",
   "metadata": {},
   "source": [
    "Q3. In a given sample string, How do you print a double quoted string in between a\n",
    "regular\n",
    "string using the escape character?\n",
    "\n",
    "Sample output = It goes without saying, “Time is Money”, and none can deny it.\n",
    "\n",
    "* a. print(“It goes without saying, \\“Time is Money\\”, and none can deny it.”)\n",
    "* b. print(“It goes without saying, \\Time is Money\\, and none can deny it.”)\n",
    "* c. print(“It goes without saying” + “Time is Money” + “and none can deny it.”)\n",
    "* d. None of the above.\n",
    "\n",
    "# Ans - a"
   ]
  },
  {
   "cell_type": "code",
   "execution_count": 9,
   "metadata": {},
   "outputs": [
    {
     "name": "stdout",
     "output_type": "stream",
     "text": [
      "It goes without saying, \"Time is Money\", and none can deny it.\n"
     ]
    }
   ],
   "source": [
    "print(\"It goes without saying, \\\"Time is Money\\\", and none can deny it.\")"
   ]
  },
  {
   "cell_type": "markdown",
   "metadata": {},
   "source": [
    "Q4. What will be the output of the following code?\n",
    "\n",
    "x = lambda a,b: a//b\n",
    "\n",
    "x(10,3)\n",
    "* a. 3.3333333333\n",
    "* b. 3\n",
    "* c. 30\n",
    "* d. 1000\n",
    "\n",
    "# Ans - b"
   ]
  },
  {
   "cell_type": "code",
   "execution_count": 12,
   "metadata": {},
   "outputs": [
    {
     "data": {
      "text/plain": [
       "3"
      ]
     },
     "execution_count": 12,
     "metadata": {},
     "output_type": "execute_result"
    }
   ],
   "source": [
    "x = lambda a,b: a//b\n",
    "\n",
    "x(10,3)"
   ]
  },
  {
   "cell_type": "markdown",
   "metadata": {},
   "source": [
    "Q5. What will be the output of the following code?\n",
    "\n",
    "A = 10\n",
    "B = 12\n",
    "\n",
    "print(\"Smaller\") if A == B else print(\"Greater\") if A < B else print(\"True\")\n",
    "* a. True\n",
    "* b. Smaller\n",
    "* c. Greater\n",
    "* d. None of the above\n",
    "\n",
    "# Ans - c"
   ]
  },
  {
   "cell_type": "code",
   "execution_count": 15,
   "metadata": {},
   "outputs": [
    {
     "name": "stdout",
     "output_type": "stream",
     "text": [
      "Greater\n"
     ]
    }
   ],
   "source": [
    "A=10 \n",
    "B=12\n",
    "print(\"Smaller\") if A == B else print(\"Greater\") if A < B else print(\"True\")"
   ]
  },
  {
   "cell_type": "markdown",
   "metadata": {},
   "source": [
    "Q6. What will be the output of the following code?\n",
    "* a. [2 7 3 5 4 6]\n",
    "* b. TypeError\n",
    "* c. NameError: name 'numpy'\n",
    "* d. None of the above\n",
    "\n",
    "# ans - a"
   ]
  },
  {
   "cell_type": "code",
   "execution_count": 17,
   "metadata": {},
   "outputs": [
    {
     "name": "stdout",
     "output_type": "stream",
     "text": [
      "[2, 7, 3, 5, 4, 6]\n",
      "[2 7 3 5 4 6]\n"
     ]
    }
   ],
   "source": [
    "import os\n",
    "import numpy as np\n",
    "my_list1 = [2,7,3,5,4,6]\n",
    "print(my_list1)\n",
    "arr_1 = np.array(my_list1, dtype = int)\n",
    "print(arr_1)"
   ]
  },
  {
   "cell_type": "markdown",
   "metadata": {},
   "source": [
    "Q7. Create a string called ‘string’ with the value as “Machine Learning”. Which code(s)\n",
    "is/are appropriate to slice the substring “Learn”?\n",
    "* a. string[slice(13,8,1)]\n",
    "* b. string[slice(1,8,1)]\n",
    "* c. string[8:14]\n",
    "* d. string[slice(8,13,1)]\n",
    "\n",
    "# ans - d"
   ]
  },
  {
   "cell_type": "code",
   "execution_count": 18,
   "metadata": {},
   "outputs": [
    {
     "name": "stdout",
     "output_type": "stream",
     "text": [
      "\n",
      "achine \n",
      "Learni\n",
      "Learn\n"
     ]
    }
   ],
   "source": [
    "string = \"Machine Learning\"\n",
    "print(string[slice(13,8,1)])\n",
    "print(string[slice(1,8,1)])\n",
    "print(string[8:14])\n",
    "print(string[slice(8,13,1)])"
   ]
  },
  {
   "cell_type": "markdown",
   "metadata": {},
   "source": [
    "Q8. Create a sequence of numbers from 10 to 25 and increment by 4. What is the index\n",
    "of the\n",
    "value 18?\n",
    "* a. 3\n",
    "* b. 2\n",
    "* c. 0\n",
    "* d. 1\n",
    "\n",
    "# ans - b"
   ]
  },
  {
   "cell_type": "code",
   "execution_count": 19,
   "metadata": {},
   "outputs": [
    {
     "name": "stdout",
     "output_type": "stream",
     "text": [
      "[10, 14, 18, 22]\n",
      "2\n"
     ]
    }
   ],
   "source": [
    "seq = list(range(10,26,4))\n",
    "print(seq)\n",
    "index_of_18 = seq.index(18)\n",
    "print(index_of_18)"
   ]
  },
  {
   "cell_type": "markdown",
   "metadata": {},
   "source": [
    "Q9. Which of the following is true with respect to the below codes?\n",
    "* a. num1 = num2\n",
    "* b. num1 ≠ num2\n",
    "* c. num1 < num2\n",
    "* d. num1 > num2\n",
    "\n",
    "# ans - a"
   ]
  },
  {
   "cell_type": "code",
   "execution_count": 20,
   "metadata": {},
   "outputs": [
    {
     "name": "stdout",
     "output_type": "stream",
     "text": [
      "625 625\n"
     ]
    }
   ],
   "source": [
    "num1 = 5**4\n",
    "num2 = pow(5,4)\n",
    "print(num1, num2)"
   ]
  },
  {
   "cell_type": "markdown",
   "metadata": {},
   "source": [
    "Q10.A Python NameError exception is raised when: -\n",
    "\n",
    "a. Trying to access a variable which has not been defined\n",
    "\n",
    "b. Trying to access a key in a dictionary that does not exist\n",
    "\n",
    "c. Accessing a column with misspelled column name\n",
    "\n",
    "d. Accessing the function from a module that has not been imported\n",
    "\n",
    "# ans - a"
   ]
  },
  {
   "cell_type": "markdown",
   "metadata": {},
   "source": [
    "Q11.What type of exception will be raised for the code given below?\n",
    "* a. NameError\n",
    "* b. KeyError\n",
    "* c. ValueError\n",
    "* d. AttributeError\n",
    "\n",
    "# ans - c"
   ]
  },
  {
   "cell_type": "code",
   "execution_count": 21,
   "metadata": {},
   "outputs": [
    {
     "ename": "ValueError",
     "evalue": "invalid literal for int() with base 10: 'string'",
     "output_type": "error",
     "traceback": [
      "\u001b[1;31m---------------------------------------------------------------------------\u001b[0m",
      "\u001b[1;31mValueError\u001b[0m                                Traceback (most recent call last)",
      "Cell \u001b[1;32mIn[21], line 2\u001b[0m\n\u001b[0;32m      1\u001b[0m x \u001b[38;5;241m=\u001b[39m \u001b[38;5;124m\"\u001b[39m\u001b[38;5;124mstring\u001b[39m\u001b[38;5;124m\"\u001b[39m\n\u001b[1;32m----> 2\u001b[0m \u001b[38;5;28;43mint\u001b[39;49m\u001b[43m(\u001b[49m\u001b[43mx\u001b[49m\u001b[43m)\u001b[49m\n",
      "\u001b[1;31mValueError\u001b[0m: invalid literal for int() with base 10: 'string'"
     ]
    }
   ],
   "source": [
    "x = \"string\"\n",
    "int(x)"
   ]
  },
  {
   "cell_type": "markdown",
   "metadata": {},
   "source": [
    "Q12.A FileNotFoundError exception is raised by operating system errors when: -\n",
    "\n",
    "a. Trying to create a file or directory which already exists\n",
    "\n",
    "b. A file or directory is requested but does not exist in the working directory\n",
    "\n",
    "c. Trying to run an operation without the adequate access rights\n",
    "\n",
    "d. A directory operation, os.listdir() is requested on something which is not a\n",
    "directory\n",
    "\n",
    "# ans -b"
   ]
  },
  {
   "cell_type": "markdown",
   "metadata": {},
   "source": [
    "Q13.Consider a variable Z. The value of Z is \"ID-5632\". Data type of Z is: -\n",
    "* a. Complex\n",
    "* b. Character\n",
    "* c. Integer\n",
    "* d. Boolean\n",
    "\n",
    "# ans - b\n",
    "str which is sequence of characters"
   ]
  },
  {
   "cell_type": "code",
   "execution_count": 22,
   "metadata": {},
   "outputs": [
    {
     "name": "stdout",
     "output_type": "stream",
     "text": [
      "<class 'str'>\n"
     ]
    }
   ],
   "source": [
    "Z = \"ID-5632\"\n",
    "print(type(Z))"
   ]
  },
  {
   "cell_type": "markdown",
   "metadata": {},
   "source": [
    "Q14.Which of the following variable(s) are character data type?\n",
    "\n",
    "a. K= “4”\n",
    "\n",
    "b. J= “Welcome”\n",
    "\n",
    "c. L= “?”\n",
    "\n",
    "d. All of the above\n",
    "\n",
    "# ans - d"
   ]
  },
  {
   "cell_type": "markdown",
   "metadata": {},
   "source": [
    "Q15.Choose the symbol/s that does not have the ability to convert any values to string?\n",
    "* a. ( )\n",
    "* b. “ ”\n",
    "* c. {}\n",
    "* d. #\n",
    "\n",
    "# ans - d"
   ]
  },
  {
   "cell_type": "markdown",
   "metadata": {},
   "source": [
    "Q16.Create a dictionary ‘Country’ that maps the following countries to their capitals\n",
    "respectively:\n",
    "\n",
    "Country India China Japan Qatar France\n",
    "\n",
    "State Delhi Beijing Tokyo Doha Marseilles\n",
    "\n",
    "Find 2 commands to replace “Marseilles” with “Paris” is:"
   ]
  },
  {
   "cell_type": "code",
   "execution_count": 26,
   "metadata": {},
   "outputs": [
    {
     "name": "stdout",
     "output_type": "stream",
     "text": [
      "using method1:  {'India': 'Delhi', 'China': 'Beijing', 'Japan': 'Tokyo', 'Qatar': 'Doha', 'France': 'Paris'}\n",
      "using method2:  {'India': 'Delhi', 'China': 'Beijing', 'Japan': 'Tokyo', 'Qatar': 'Doha', 'France': 'Paris'}\n"
     ]
    }
   ],
   "source": [
    "Country = {\n",
    "    \"India\": \"Delhi\",\n",
    "    \"China\": \"Beijing\",\n",
    "    \"Japan\": \"Tokyo\",\n",
    "    \"Qatar\": \"Doha\",\n",
    "    \"France\": \"Marseilles\"\n",
    "}\n",
    "\n",
    "# method1:\n",
    "Country[\"France\"] = \"Paris\"\n",
    "print(\"using method1: \",Country)\n",
    "\n",
    "# method2:\n",
    "Country.update({\"France\" : \"Paris\"})\n",
    "print(\"using method2: \",Country)"
   ]
  },
  {
   "cell_type": "markdown",
   "metadata": {},
   "source": [
    "Q17. Create the tuples given below\n",
    "\n",
    "tuple_1 = (1,5,6,7,8)\n",
    "\n",
    "tuple_2 = (8,9,4)\n",
    "\n",
    "Identify which of the following code does not work on a tuple.\n",
    "* a. sum(tuple_1)\n",
    "* b. len(tuple_2)\n",
    "* c. tuple_2 + tuple_1\n",
    "* d. tuple_1[3] = 45\n",
    "\n",
    "# ans - d\n",
    "as tuple is immutable"
   ]
  },
  {
   "cell_type": "code",
   "execution_count": 27,
   "metadata": {},
   "outputs": [
    {
     "name": "stdout",
     "output_type": "stream",
     "text": [
      "(1, 5, 6, 7, 8) (8, 9, 4)\n"
     ]
    }
   ],
   "source": [
    "tuple_1 = (1,5,6,7,8)\n",
    "tuple_2 = (8,9,4)\n",
    "print(tuple_1,tuple_2)"
   ]
  },
  {
   "cell_type": "code",
   "execution_count": 28,
   "metadata": {},
   "outputs": [
    {
     "data": {
      "text/plain": [
       "27"
      ]
     },
     "execution_count": 28,
     "metadata": {},
     "output_type": "execute_result"
    }
   ],
   "source": [
    "sum(tuple_1)"
   ]
  },
  {
   "cell_type": "code",
   "execution_count": 29,
   "metadata": {},
   "outputs": [
    {
     "data": {
      "text/plain": [
       "3"
      ]
     },
     "execution_count": 29,
     "metadata": {},
     "output_type": "execute_result"
    }
   ],
   "source": [
    "len(tuple_2)"
   ]
  },
  {
   "cell_type": "code",
   "execution_count": 30,
   "metadata": {},
   "outputs": [
    {
     "data": {
      "text/plain": [
       "(8, 9, 4, 1, 5, 6, 7, 8)"
      ]
     },
     "execution_count": 30,
     "metadata": {},
     "output_type": "execute_result"
    }
   ],
   "source": [
    "tuple_2 + tuple_1"
   ]
  },
  {
   "cell_type": "code",
   "execution_count": 31,
   "metadata": {},
   "outputs": [
    {
     "ename": "TypeError",
     "evalue": "'tuple' object does not support item assignment",
     "output_type": "error",
     "traceback": [
      "\u001b[1;31m---------------------------------------------------------------------------\u001b[0m",
      "\u001b[1;31mTypeError\u001b[0m                                 Traceback (most recent call last)",
      "Cell \u001b[1;32mIn[31], line 1\u001b[0m\n\u001b[1;32m----> 1\u001b[0m \u001b[43mtuple_1\u001b[49m\u001b[43m[\u001b[49m\u001b[38;5;241;43m3\u001b[39;49m\u001b[43m]\u001b[49m \u001b[38;5;241m=\u001b[39m \u001b[38;5;241m45\u001b[39m\n",
      "\u001b[1;31mTypeError\u001b[0m: 'tuple' object does not support item assignment"
     ]
    }
   ],
   "source": [
    "tuple_1[3] = 45"
   ]
  },
  {
   "cell_type": "markdown",
   "metadata": {},
   "source": [
    "Q18. How many elements in the following data structure?\n",
    "\n",
    "S ={1,2,3,4,4,4,5,6}\n",
    "\n",
    "# ans - 6"
   ]
  },
  {
   "cell_type": "code",
   "execution_count": 32,
   "metadata": {},
   "outputs": [
    {
     "name": "stdout",
     "output_type": "stream",
     "text": [
      "6\n"
     ]
    }
   ],
   "source": [
    "S = {1,2,3,4,4,4,5,6}\n",
    "print(len(S))"
   ]
  },
  {
   "cell_type": "markdown",
   "metadata": {},
   "source": [
    "Q19.Write a function which finds all pythagorean triplets of triangles whose sides are no\n",
    "greater than a natural number N."
   ]
  },
  {
   "cell_type": "code",
   "execution_count": 33,
   "metadata": {},
   "outputs": [
    {
     "name": "stdout",
     "output_type": "stream",
     "text": [
      "[(3, 4, 5), (5, 12, 13), (6, 8, 10), (7, 24, 25), (8, 15, 17), (9, 12, 15), (12, 16, 20), (15, 20, 25)]\n"
     ]
    }
   ],
   "source": [
    "def find_pythagorean_triplets(N):\n",
    "    triplets = []\n",
    "    for a in range(1, N + 1):\n",
    "        for b in range(a, N + 1):\n",
    "            c = (a**2 + b**2)**0.5\n",
    "            if c.is_integer() and c <= N:\n",
    "                triplets.append((a, b, int(c)))\n",
    "    return triplets\n",
    "\n",
    "# Example usage:\n",
    "N = 25\n",
    "triplets = find_pythagorean_triplets(N)\n",
    "print(triplets)\n"
   ]
  },
  {
   "cell_type": "code",
   "execution_count": null,
   "metadata": {},
   "outputs": [],
   "source": []
  }
 ],
 "metadata": {
  "kernelspec": {
   "display_name": "Python 3",
   "language": "python",
   "name": "python3"
  },
  "language_info": {
   "codemirror_mode": {
    "name": "ipython",
    "version": 3
   },
   "file_extension": ".py",
   "mimetype": "text/x-python",
   "name": "python",
   "nbconvert_exporter": "python",
   "pygments_lexer": "ipython3",
   "version": "3.11.9"
  }
 },
 "nbformat": 4,
 "nbformat_minor": 2
}
