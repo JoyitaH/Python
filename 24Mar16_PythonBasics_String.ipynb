{
 "cells": [
  {
   "cell_type": "markdown",
   "metadata": {},
   "source": [
    "**Python Building Blocks**"
   ]
  },
  {
   "cell_type": "code",
   "execution_count": 1,
   "metadata": {},
   "outputs": [
    {
     "name": "stdout",
     "output_type": "stream",
     "text": [
      "Hello!\n"
     ]
    }
   ],
   "source": [
    "# Easy to Write\n",
    "print(\"Hello!\")"
   ]
  },
  {
   "cell_type": "code",
   "execution_count": 2,
   "metadata": {},
   "outputs": [
    {
     "data": {
      "text/plain": [
       "170"
      ]
     },
     "execution_count": 2,
     "metadata": {},
     "output_type": "execute_result"
    }
   ],
   "source": [
    "# Error Friendly\n",
    "a = 80\n",
    "b = 90\n",
    "a+b"
   ]
  },
  {
   "cell_type": "code",
   "execution_count": 3,
   "metadata": {},
   "outputs": [
    {
     "ename": "NameError",
     "evalue": "name 'B' is not defined",
     "output_type": "error",
     "traceback": [
      "\u001b[1;31m---------------------------------------------------------------------------\u001b[0m",
      "\u001b[1;31mNameError\u001b[0m                                 Traceback (most recent call last)",
      "\u001b[1;32m<ipython-input-3-d7600a2ad5e9>\u001b[0m in \u001b[0;36m<module>\u001b[1;34m\u001b[0m\n\u001b[0;32m      1\u001b[0m \u001b[0ma\u001b[0m \u001b[1;33m=\u001b[0m \u001b[1;36m80\u001b[0m\u001b[1;33m\u001b[0m\u001b[1;33m\u001b[0m\u001b[0m\n\u001b[0;32m      2\u001b[0m \u001b[0mb\u001b[0m \u001b[1;33m=\u001b[0m\u001b[1;36m90\u001b[0m\u001b[1;33m\u001b[0m\u001b[1;33m\u001b[0m\u001b[0m\n\u001b[1;32m----> 3\u001b[1;33m \u001b[0ma\u001b[0m\u001b[1;33m+\u001b[0m\u001b[0mB\u001b[0m\u001b[1;33m\u001b[0m\u001b[1;33m\u001b[0m\u001b[0m\n\u001b[0m",
      "\u001b[1;31mNameError\u001b[0m: name 'B' is not defined"
     ]
    }
   ],
   "source": [
    "a = 80\n",
    "b =90\n",
    "a+B"
   ]
  },
  {
   "cell_type": "code",
   "execution_count": 4,
   "metadata": {},
   "outputs": [],
   "source": [
    "# Code Block and Indentation\n",
    "def test(abc):\n",
    "    a = B-C\n",
    "    B = C-a\n",
    "    C = B-D\n",
    "    \n",
    "    return abc"
   ]
  },
  {
   "cell_type": "markdown",
   "metadata": {},
   "source": [
    "**Concept of Variable**"
   ]
  },
  {
   "cell_type": "code",
   "execution_count": 5,
   "metadata": {},
   "outputs": [
    {
     "name": "stdout",
     "output_type": "stream",
     "text": [
      "20\n"
     ]
    }
   ],
   "source": [
    "a = 20\n",
    "print(a)"
   ]
  },
  {
   "cell_type": "code",
   "execution_count": 6,
   "metadata": {},
   "outputs": [
    {
     "data": {
      "text/plain": [
       "140723397043184"
      ]
     },
     "execution_count": 6,
     "metadata": {},
     "output_type": "execute_result"
    }
   ],
   "source": [
    "id(a)"
   ]
  },
  {
   "cell_type": "markdown",
   "metadata": {},
   "source": [
    "**Rules and Regulations / Naming Convention of Variables**\n",
    "\n",
    "* **Does**\n",
    "  * You can have a variables starting with small letter, capital letter or an underscore.\n",
    "  * You can have a combination of letter and alphabets together\n",
    "  * Usage of underscore is permissible everywhere\n",
    "\n",
    "* **Dont's**\n",
    "  * A variable can never start with a number or any special characters.\n",
    "  * You can't have space in between the variable declaration.\n",
    "  * The keywords should not be used as in the form of variables"
   ]
  },
  {
   "cell_type": "code",
   "execution_count": 8,
   "metadata": {},
   "outputs": [],
   "source": [
    "a = 10\n",
    "A = 10\n",
    "aA = 10\n",
    "_a = 10\n",
    "_a1 = 10\n",
    "a1 = 10"
   ]
  },
  {
   "cell_type": "code",
   "execution_count": 9,
   "metadata": {},
   "outputs": [
    {
     "data": {
      "text/plain": [
       "(10, 10, 10, 10, 10, 10)"
      ]
     },
     "execution_count": 9,
     "metadata": {},
     "output_type": "execute_result"
    }
   ],
   "source": [
    "a,A,aA,_a,_a1,a1"
   ]
  },
  {
   "cell_type": "code",
   "execution_count": 10,
   "metadata": {},
   "outputs": [],
   "source": [
    "# Don'ts  --> Comments\n",
    "\n",
    "# 1a = 10\n",
    "\n",
    "# a 1 = 10\n",
    "\n",
    "# if = 10"
   ]
  },
  {
   "cell_type": "markdown",
   "metadata": {},
   "source": [
    "<hr>\n",
    "\n",
    "**Data Types**\n",
    "* **Numerical: `int`, `float`, `complex`**\n",
    "  * **Text Data: `string`**\n",
    "  * **`Boolean` Data**\n",
    "  * **Sequentials: `List` & `Tuples`**\n",
    "  * **Maps: `Dictionary`**\n",
    "  * **`Sets`**"
   ]
  },
  {
   "cell_type": "code",
   "execution_count": 11,
   "metadata": {},
   "outputs": [
    {
     "data": {
      "text/plain": [
       "(int, int)"
      ]
     },
     "execution_count": 11,
     "metadata": {},
     "output_type": "execute_result"
    }
   ],
   "source": [
    "# Integer: -ve infinity to +ve infinity (without any decimals)\n",
    "a=100\n",
    "b=-10\n",
    "type(a), type(b)\n"
   ]
  },
  {
   "cell_type": "code",
   "execution_count": 12,
   "metadata": {},
   "outputs": [
    {
     "data": {
      "text/plain": [
       "(float, float)"
      ]
     },
     "execution_count": 12,
     "metadata": {},
     "output_type": "execute_result"
    }
   ],
   "source": [
    "# floats: -ve infinity to +ve infinity (with decimals)\n",
    "a = 100.987\n",
    "b = -47.01002\n",
    "type(a), type(b)"
   ]
  },
  {
   "cell_type": "code",
   "execution_count": 13,
   "metadata": {},
   "outputs": [
    {
     "data": {
      "text/plain": [
       "complex"
      ]
     },
     "execution_count": 13,
     "metadata": {},
     "output_type": "execute_result"
    }
   ],
   "source": [
    "# Complex datatypes\n",
    "a = 6 + 5j\n",
    "type(a)"
   ]
  },
  {
   "cell_type": "code",
   "execution_count": 16,
   "metadata": {},
   "outputs": [
    {
     "data": {
      "text/plain": [
       "complex"
      ]
     },
     "execution_count": 16,
     "metadata": {},
     "output_type": "execute_result"
    }
   ],
   "source": [
    "b = -7j\n",
    "type(b)"
   ]
  },
  {
   "cell_type": "code",
   "execution_count": 18,
   "metadata": {},
   "outputs": [
    {
     "name": "stdout",
     "output_type": "stream",
     "text": [
      "False\n"
     ]
    }
   ],
   "source": [
    "# Booleans\n",
    "a = 10\n",
    "b = 30\n",
    "print(a == b)"
   ]
  },
  {
   "cell_type": "markdown",
   "metadata": {},
   "source": [
    "**Text Data aka Strings**\n",
    "* **Definition: It is an alphanumerical combination**\n",
    "\n",
    "* **Declaration of strings**\n",
    "  * In python, there is no difference between the single quotations and double quotations."
   ]
  },
  {
   "cell_type": "code",
   "execution_count": 19,
   "metadata": {},
   "outputs": [
    {
     "data": {
      "text/plain": [
       "(str, str)"
      ]
     },
     "execution_count": 19,
     "metadata": {},
     "output_type": "execute_result"
    }
   ],
   "source": [
    "a = \"Hello World!\"\n",
    "\n",
    "b = 'Hello World!'\n",
    "\n",
    "type(a), type(b)"
   ]
  },
  {
   "cell_type": "code",
   "execution_count": 20,
   "metadata": {},
   "outputs": [
    {
     "name": "stdout",
     "output_type": "stream",
     "text": [
      "www.instagram.com/iamjoy\n"
     ]
    }
   ],
   "source": [
    "a = 'www.instagram.com/iamjoy'\n",
    "print(a)"
   ]
  },
  {
   "cell_type": "code",
   "execution_count": 21,
   "metadata": {},
   "outputs": [
    {
     "name": "stdout",
     "output_type": "stream",
     "text": [
      "www.medium.com/users/@iamjoy01\n"
     ]
    }
   ],
   "source": [
    "a = 'www.medium.com/users/@iamjoy01'\n",
    "print(a)"
   ]
  },
  {
   "cell_type": "markdown",
   "metadata": {},
   "source": [
    "**Strings Distribution**\n",
    "   * **Indexing and Slicing**\n",
    "   * **String Manipulation**"
   ]
  },
  {
   "cell_type": "markdown",
   "metadata": {},
   "source": [
    "**Indexing and Slicing**\n",
    "\n",
    "![image.png](data:image/png;base64,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)"
   ]
  },
  {
   "cell_type": "code",
   "execution_count": 22,
   "metadata": {},
   "outputs": [
    {
     "data": {
      "text/plain": [
       "('H', 'e', 'l', 'l', 'o')"
      ]
     },
     "execution_count": 22,
     "metadata": {},
     "output_type": "execute_result"
    }
   ],
   "source": [
    "# Indexing: Accessing particular element of a string\n",
    "a = 'Hello'\n",
    "a[0], a[1], a[2], a[3], a[4]                    # variable positions"
   ]
  },
  {
   "cell_type": "code",
   "execution_count": 23,
   "metadata": {},
   "outputs": [
    {
     "data": {
      "text/plain": [
       "('o', 'l', 'l', 'e', 'H')"
      ]
     },
     "execution_count": 23,
     "metadata": {},
     "output_type": "execute_result"
    }
   ],
   "source": [
    "a[-1], a[-2], a[-3], a[-4], a[-5]"
   ]
  },
  {
   "cell_type": "markdown",
   "metadata": {},
   "source": [
    "**Slicing**\n",
    "\n",
    "Syntax: `variable[start : end+1]`"
   ]
  },
  {
   "cell_type": "code",
   "execution_count": 1,
   "metadata": {},
   "outputs": [],
   "source": [
    "# Slicing: Accessing sequence of variables (elements) at a time\n",
    "a = 'Dev is your trainer'"
   ]
  },
  {
   "cell_type": "code",
   "execution_count": 2,
   "metadata": {},
   "outputs": [
    {
     "data": {
      "text/plain": [
       "'Dev'"
      ]
     },
     "execution_count": 2,
     "metadata": {},
     "output_type": "execute_result"
    }
   ],
   "source": [
    "a[0:3]"
   ]
  },
  {
   "cell_type": "code",
   "execution_count": 3,
   "metadata": {},
   "outputs": [
    {
     "data": {
      "text/plain": [
       "'your'"
      ]
     },
     "execution_count": 3,
     "metadata": {},
     "output_type": "execute_result"
    }
   ],
   "source": [
    "a[7:11]"
   ]
  },
  {
   "cell_type": "code",
   "execution_count": 5,
   "metadata": {},
   "outputs": [
    {
     "data": {
      "text/plain": [
       "'e syu rie'"
      ]
     },
     "execution_count": 5,
     "metadata": {},
     "output_type": "execute_result"
    }
   ],
   "source": [
    "# if there is nothing mentioned in the placeholder, that means that you have to go till the end\n",
    "a[1: :2]"
   ]
  },
  {
   "cell_type": "code",
   "execution_count": 6,
   "metadata": {},
   "outputs": [
    {
     "data": {
      "text/plain": [
       "'Dev is your trainer'"
      ]
     },
     "execution_count": 6,
     "metadata": {},
     "output_type": "execute_result"
    }
   ],
   "source": [
    "a[0:]"
   ]
  },
  {
   "cell_type": "code",
   "execution_count": 7,
   "metadata": {},
   "outputs": [
    {
     "data": {
      "text/plain": [
       "'Dev is your tr'"
      ]
     },
     "execution_count": 7,
     "metadata": {},
     "output_type": "execute_result"
    }
   ],
   "source": [
    "a[0:-5]"
   ]
  },
  {
   "cell_type": "code",
   "execution_count": 8,
   "metadata": {},
   "outputs": [
    {
     "data": {
      "text/plain": [
       "'reniart ruoy si veD'"
      ]
     },
     "execution_count": 8,
     "metadata": {},
     "output_type": "execute_result"
    }
   ],
   "source": [
    "# Reversing the string using slicing\n",
    "a[::-1]"
   ]
  },
  {
   "cell_type": "markdown",
   "metadata": {},
   "source": [
    "**String Manipulation**"
   ]
  },
  {
   "cell_type": "code",
   "execution_count": 9,
   "metadata": {},
   "outputs": [
    {
     "data": {
      "text/plain": [
       "'HELLO WORLD!'"
      ]
     },
     "execution_count": 9,
     "metadata": {},
     "output_type": "execute_result"
    }
   ],
   "source": [
    "# Convert to Uppercase\n",
    "a = 'Hello World!'\n",
    "a.upper()"
   ]
  },
  {
   "cell_type": "code",
   "execution_count": 10,
   "metadata": {},
   "outputs": [
    {
     "data": {
      "text/plain": [
       "'hello world!'"
      ]
     },
     "execution_count": 10,
     "metadata": {},
     "output_type": "execute_result"
    }
   ],
   "source": [
    "# Convert to lowercase\n",
    "a.lower()"
   ]
  },
  {
   "cell_type": "code",
   "execution_count": 1,
   "metadata": {},
   "outputs": [
    {
     "data": {
      "text/plain": [
       "'    Hello World!'"
      ]
     },
     "execution_count": 1,
     "metadata": {},
     "output_type": "execute_result"
    }
   ],
   "source": [
    "# How to deal with spaces\n",
    "a = '    Hello World!'\n",
    "a"
   ]
  },
  {
   "cell_type": "code",
   "execution_count": 2,
   "metadata": {},
   "outputs": [
    {
     "data": {
      "text/plain": [
       "'Hello World!'"
      ]
     },
     "execution_count": 2,
     "metadata": {},
     "output_type": "execute_result"
    }
   ],
   "source": [
    "a.strip()"
   ]
  },
  {
   "cell_type": "code",
   "execution_count": 3,
   "metadata": {},
   "outputs": [
    {
     "data": {
      "text/plain": [
       "'Hello  World!'"
      ]
     },
     "execution_count": 3,
     "metadata": {},
     "output_type": "execute_result"
    }
   ],
   "source": [
    "# How to deal with spaces that are in between\n",
    "a = 'Hello  World!'\n",
    "a"
   ]
  },
  {
   "cell_type": "code",
   "execution_count": 5,
   "metadata": {},
   "outputs": [
    {
     "data": {
      "text/plain": [
       "['Hello', '', 'World!']"
      ]
     },
     "execution_count": 5,
     "metadata": {},
     "output_type": "execute_result"
    }
   ],
   "source": [
    "a.split(' ')"
   ]
  },
  {
   "cell_type": "code",
   "execution_count": 6,
   "metadata": {},
   "outputs": [
    {
     "data": {
      "text/plain": [
       "['Hello', 'World!']"
      ]
     },
     "execution_count": 6,
     "metadata": {},
     "output_type": "execute_result"
    }
   ],
   "source": [
    "a = 'Hello World!'\n",
    "a.split(' ')"
   ]
  },
  {
   "cell_type": "code",
   "execution_count": 7,
   "metadata": {},
   "outputs": [
    {
     "name": "stdout",
     "output_type": "stream",
     "text": [
      "Hello World!\n"
     ]
    },
    {
     "data": {
      "text/plain": [
       "12"
      ]
     },
     "execution_count": 7,
     "metadata": {},
     "output_type": "execute_result"
    }
   ],
   "source": [
    "# Calculating length of string\n",
    "print(a)\n",
    "len(a)"
   ]
  },
  {
   "cell_type": "markdown",
   "metadata": {},
   "source": [
    "<hr>\n",
    "\n",
    "**Question based on String Indexing and Slicing**\n",
    "\n",
    "a = 'I N T E L L I P A A T'\n",
    "\n",
    "* Print the middle portion the string\n",
    "* Print `ELLI` in reverse order\n",
    "* Print PAAT using only one values"
   ]
  },
  {
   "cell_type": "code",
   "execution_count": 10,
   "metadata": {},
   "outputs": [
    {
     "data": {
      "text/plain": [
       "'I N T E L L I P A A T'"
      ]
     },
     "execution_count": 10,
     "metadata": {},
     "output_type": "execute_result"
    }
   ],
   "source": [
    "a = 'I N T E L L I P A A T'\n",
    "a"
   ]
  },
  {
   "cell_type": "code",
   "execution_count": 11,
   "metadata": {},
   "outputs": [
    {
     "data": {
      "text/plain": [
       "21"
      ]
     },
     "execution_count": 11,
     "metadata": {},
     "output_type": "execute_result"
    }
   ],
   "source": [
    "len(a)"
   ]
  },
  {
   "cell_type": "code",
   "execution_count": 12,
   "metadata": {},
   "outputs": [
    {
     "data": {
      "text/plain": [
       "' '"
      ]
     },
     "execution_count": 12,
     "metadata": {},
     "output_type": "execute_result"
    }
   ],
   "source": [
    "# middle\n",
    "a[11]"
   ]
  },
  {
   "cell_type": "code",
   "execution_count": 27,
   "metadata": {},
   "outputs": [
    {
     "data": {
      "text/plain": [
       "' I L L E'"
      ]
     },
     "execution_count": 27,
     "metadata": {},
     "output_type": "execute_result"
    }
   ],
   "source": [
    "# ELLI in reverse\n",
    "a[-8:5:-1]"
   ]
  },
  {
   "cell_type": "code",
   "execution_count": 30,
   "metadata": {},
   "outputs": [
    {
     "data": {
      "text/plain": [
       "'P A A T'"
      ]
     },
     "execution_count": 30,
     "metadata": {},
     "output_type": "execute_result"
    }
   ],
   "source": [
    "a[-7:]"
   ]
  },
  {
   "cell_type": "code",
   "execution_count": null,
   "metadata": {},
   "outputs": [],
   "source": []
  }
 ],
 "metadata": {
  "kernelspec": {
   "display_name": "base",
   "language": "python",
   "name": "python3"
  },
  "language_info": {
   "codemirror_mode": {
    "name": "ipython",
    "version": 3
   },
   "file_extension": ".py",
   "mimetype": "text/x-python",
   "name": "python",
   "nbconvert_exporter": "python",
   "pygments_lexer": "ipython3",
   "version": "3.7.6"
  }
 },
 "nbformat": 4,
 "nbformat_minor": 2
}
